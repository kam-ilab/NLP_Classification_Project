{
 "cells": [
  {
   "cell_type": "code",
   "execution_count": 18,
   "id": "3643643f-607d-44c2-97fa-dc2af7a3c7b8",
   "metadata": {},
   "outputs": [],
   "source": [
    "import pandas as pd\n",
    "import numpy as np\n",
    "import os\n",
    "from sklearn.model_selection import train_test_split\n",
    "from sklearn.feature_extraction.text import CountVectorizer\n",
    "from sklearn.naive_bayes import MultinomialNB\n",
    "from sklearn.metrics import accuracy_score, classification_report\n",
    "import mlflow\n",
    "import mlflow.sklearn\n"
   ]
  },
  {
   "cell_type": "code",
   "execution_count": 19,
   "id": "44d4afed-4822-4aa2-ae5d-608afd492054",
   "metadata": {},
   "outputs": [],
   "source": [
    "# Load training and test data\n",
    "train_df = pd.read_csv('train.csv')\n",
    "test_df = pd.read_csv('test.csv')"
   ]
  },
  {
   "cell_type": "code",
   "execution_count": 20,
   "id": "3a492850-a854-41cc-9d17-e2860c992bf7",
   "metadata": {},
   "outputs": [
    {
     "data": {
      "text/html": [
       "<div>\n",
       "<style scoped>\n",
       "    .dataframe tbody tr th:only-of-type {\n",
       "        vertical-align: middle;\n",
       "    }\n",
       "\n",
       "    .dataframe tbody tr th {\n",
       "        vertical-align: top;\n",
       "    }\n",
       "\n",
       "    .dataframe thead th {\n",
       "        text-align: right;\n",
       "    }\n",
       "</style>\n",
       "<table border=\"1\" class=\"dataframe\">\n",
       "  <thead>\n",
       "    <tr style=\"text-align: right;\">\n",
       "      <th></th>\n",
       "      <th>headlines</th>\n",
       "      <th>description</th>\n",
       "      <th>content</th>\n",
       "      <th>url</th>\n",
       "      <th>category</th>\n",
       "    </tr>\n",
       "  </thead>\n",
       "  <tbody>\n",
       "    <tr>\n",
       "      <th>0</th>\n",
       "      <td>RBI revises definition of politically-exposed ...</td>\n",
       "      <td>The central bank has also asked chairpersons a...</td>\n",
       "      <td>The Reserve Bank of India (RBI) has changed th...</td>\n",
       "      <td>https://indianexpress.com/article/business/ban...</td>\n",
       "      <td>business</td>\n",
       "    </tr>\n",
       "    <tr>\n",
       "      <th>1</th>\n",
       "      <td>NDTV Q2 net profit falls 57.4% to Rs 5.55 cror...</td>\n",
       "      <td>NDTV's consolidated revenue from operations wa...</td>\n",
       "      <td>Broadcaster New Delhi Television Ltd on Monday...</td>\n",
       "      <td>https://indianexpress.com/article/business/com...</td>\n",
       "      <td>business</td>\n",
       "    </tr>\n",
       "    <tr>\n",
       "      <th>2</th>\n",
       "      <td>Akasa Air ‘well capitalised’, can grow much fa...</td>\n",
       "      <td>The initial share sale will be open for public...</td>\n",
       "      <td>Homegrown server maker Netweb Technologies Ind...</td>\n",
       "      <td>https://indianexpress.com/article/business/mar...</td>\n",
       "      <td>business</td>\n",
       "    </tr>\n",
       "    <tr>\n",
       "      <th>3</th>\n",
       "      <td>India’s current account deficit declines sharp...</td>\n",
       "      <td>The current account deficit (CAD) was 3.8 per ...</td>\n",
       "      <td>India’s current account deficit declined sharp...</td>\n",
       "      <td>https://indianexpress.com/article/business/eco...</td>\n",
       "      <td>business</td>\n",
       "    </tr>\n",
       "    <tr>\n",
       "      <th>4</th>\n",
       "      <td>States borrowing cost soars to 7.68%, highest ...</td>\n",
       "      <td>The prices shot up reflecting the overall high...</td>\n",
       "      <td>States have been forced to pay through their n...</td>\n",
       "      <td>https://indianexpress.com/article/business/eco...</td>\n",
       "      <td>business</td>\n",
       "    </tr>\n",
       "  </tbody>\n",
       "</table>\n",
       "</div>"
      ],
      "text/plain": [
       "                                           headlines  \\\n",
       "0  RBI revises definition of politically-exposed ...   \n",
       "1  NDTV Q2 net profit falls 57.4% to Rs 5.55 cror...   \n",
       "2  Akasa Air ‘well capitalised’, can grow much fa...   \n",
       "3  India’s current account deficit declines sharp...   \n",
       "4  States borrowing cost soars to 7.68%, highest ...   \n",
       "\n",
       "                                         description  \\\n",
       "0  The central bank has also asked chairpersons a...   \n",
       "1  NDTV's consolidated revenue from operations wa...   \n",
       "2  The initial share sale will be open for public...   \n",
       "3  The current account deficit (CAD) was 3.8 per ...   \n",
       "4  The prices shot up reflecting the overall high...   \n",
       "\n",
       "                                             content  \\\n",
       "0  The Reserve Bank of India (RBI) has changed th...   \n",
       "1  Broadcaster New Delhi Television Ltd on Monday...   \n",
       "2  Homegrown server maker Netweb Technologies Ind...   \n",
       "3  India’s current account deficit declined sharp...   \n",
       "4  States have been forced to pay through their n...   \n",
       "\n",
       "                                                 url  category  \n",
       "0  https://indianexpress.com/article/business/ban...  business  \n",
       "1  https://indianexpress.com/article/business/com...  business  \n",
       "2  https://indianexpress.com/article/business/mar...  business  \n",
       "3  https://indianexpress.com/article/business/eco...  business  \n",
       "4  https://indianexpress.com/article/business/eco...  business  "
      ]
     },
     "execution_count": 20,
     "metadata": {},
     "output_type": "execute_result"
    }
   ],
   "source": [
    "train_df.head()"
   ]
  },
  {
   "cell_type": "code",
   "execution_count": 21,
   "id": "ddfacc2c-1bf5-4d9f-b8dc-bf38bfcfc35f",
   "metadata": {},
   "outputs": [],
   "source": [
    "# Drop unnecessary column\n",
    "train_df.drop(columns=[\"url\"], inplace=True)\n",
    "test_df.drop(columns=[\"url\"], inplace=True)\n",
    "\n",
    "# Combine text features into one\n",
    "def combine_text_columns(df):\n",
    "    return (\n",
    "        df[\"headlines\"].fillna(\"\") + \" \" +\n",
    "        df[\"description\"].fillna(\"\") + \" \" +\n",
    "        df[\"content\"].fillna(\"\")\n",
    "    )\n",
    "\n",
    "train_df[\"combined_text\"] = combine_text_columns(train_df)\n",
    "test_df[\"combined_text\"] = combine_text_columns(test_df)\n",
    "\n",
    "# Define features and target\n",
    "X = train_df[\"combined_text\"]\n",
    "y = train_df[\"category\"]\n"
   ]
  },
  {
   "cell_type": "code",
   "execution_count": 22,
   "id": "6cb927a2-b712-430d-811c-92728a1d3716",
   "metadata": {},
   "outputs": [],
   "source": [
    "vectorizer = CountVectorizer()\n",
    "X_vectorized = vectorizer.fit_transform(X)\n",
    "X_test_vectorized = vectorizer.transform(test_df[\"combined_text\"])\n",
    "\n",
    "# Train-validation split\n",
    "X_train, X_val, y_train, y_val = train_test_split(X_vectorized, y, test_size=0.2, random_state=42)\n"
   ]
  },
  {
   "cell_type": "code",
   "execution_count": 25,
   "id": "411d1273-44e8-4f07-bcdc-294897aaa9aa",
   "metadata": {},
   "outputs": [
    {
     "name": "stderr",
     "output_type": "stream",
     "text": [
      "2025/05/08 21:17:32 WARNING mlflow.sklearn: Failed to log training dataset information to MLflow Tracking. Reason: 'Series' object has no attribute 'flatten'\n"
     ]
    },
    {
     "name": "stdout",
     "output_type": "stream",
     "text": [
      "Accuracy: 0.9818840579710145\n",
      "               precision    recall  f1-score   support\n",
      "\n",
      "     business       0.99      0.96      0.98       245\n",
      "    education       0.99      0.99      0.99       274\n",
      "entertainment       0.97      0.99      0.98       178\n",
      "       sports       0.98      0.99      0.99       137\n",
      "   technology       0.97      0.97      0.97       270\n",
      "\n",
      "     accuracy                           0.98      1104\n",
      "    macro avg       0.98      0.98      0.98      1104\n",
      " weighted avg       0.98      0.98      0.98      1104\n",
      "\n",
      "🏃 View run gregarious-cat-523 at: http://localhost:5000/#/experiments/195901218684556543/runs/637cfb03334746078238fbc368a6e462\n",
      "🧪 View experiment at: http://localhost:5000/#/experiments/195901218684556543\n"
     ]
    }
   ],
   "source": [
    "mlflow.set_tracking_uri(\"http://localhost:5000\")  # Or your MLflow URI\n",
    "mlflow.set_experiment(\"News_Classification\")\n",
    "\n",
    "with mlflow.start_run():\n",
    "    mlflow.sklearn.autolog()\n",
    "\n",
    "    model = MultinomialNB()\n",
    "    model.fit(X_train, y_train)\n",
    "\n",
    "    y_pred = model.predict(X_val)\n",
    "\n",
    "    accuracy = accuracy_score(y_val, y_pred)\n",
    "    print(\"Accuracy:\", accuracy)\n",
    "    print(classification_report(y_val, y_pred))\n",
    "\n",
    "    mlflow.log_metric(\"val_accuracy\", accuracy)\n"
   ]
  },
  {
   "cell_type": "code",
   "execution_count": 26,
   "id": "4adb49bc-762f-4d2f-b849-9229d6e81bbc",
   "metadata": {},
   "outputs": [
    {
     "name": "stderr",
     "output_type": "stream",
     "text": [
      "2025/05/08 21:18:35 WARNING mlflow.sklearn: Failed to log training dataset information to MLflow Tracking. Reason: 'Series' object has no attribute 'flatten'\n"
     ]
    },
    {
     "name": "stdout",
     "output_type": "stream",
     "text": [
      "\n",
      "MultinomialNB Accuracy: 0.9818840579710145\n",
      "               precision    recall  f1-score   support\n",
      "\n",
      "     business       0.99      0.96      0.98       245\n",
      "    education       0.99      0.99      0.99       274\n",
      "entertainment       0.97      0.99      0.98       178\n",
      "       sports       0.98      0.99      0.99       137\n",
      "   technology       0.97      0.97      0.97       270\n",
      "\n",
      "     accuracy                           0.98      1104\n",
      "    macro avg       0.98      0.98      0.98      1104\n",
      " weighted avg       0.98      0.98      0.98      1104\n",
      "\n",
      "🏃 View run MultinomialNB at: http://localhost:5000/#/experiments/195901218684556543/runs/d5b35502640349a88573ef4f5e21799a\n",
      "🧪 View experiment at: http://localhost:5000/#/experiments/195901218684556543\n"
     ]
    },
    {
     "name": "stderr",
     "output_type": "stream",
     "text": [
      "2025/05/08 21:19:37 WARNING mlflow.sklearn: Failed to log training dataset information to MLflow Tracking. Reason: 'Series' object has no attribute 'flatten'\n"
     ]
    },
    {
     "name": "stdout",
     "output_type": "stream",
     "text": [
      "\n",
      "LogisticRegression Accuracy: 0.9791666666666666\n",
      "               precision    recall  f1-score   support\n",
      "\n",
      "     business       0.97      0.96      0.97       245\n",
      "    education       0.98      0.99      0.99       274\n",
      "entertainment       0.99      0.99      0.99       178\n",
      "       sports       0.98      0.99      0.99       137\n",
      "   technology       0.97      0.97      0.97       270\n",
      "\n",
      "     accuracy                           0.98      1104\n",
      "    macro avg       0.98      0.98      0.98      1104\n",
      " weighted avg       0.98      0.98      0.98      1104\n",
      "\n",
      "🏃 View run LogisticRegression at: http://localhost:5000/#/experiments/195901218684556543/runs/415fe2e0edfe40fdbd37f548e7a7ffb1\n",
      "🧪 View experiment at: http://localhost:5000/#/experiments/195901218684556543\n"
     ]
    },
    {
     "name": "stderr",
     "output_type": "stream",
     "text": [
      "2025/05/08 21:21:02 WARNING mlflow.sklearn: Failed to log training dataset information to MLflow Tracking. Reason: 'Series' object has no attribute 'flatten'\n"
     ]
    },
    {
     "name": "stdout",
     "output_type": "stream",
     "text": [
      "\n",
      "RandomForest Accuracy: 0.9565217391304348\n",
      "               precision    recall  f1-score   support\n",
      "\n",
      "     business       0.96      0.94      0.95       245\n",
      "    education       0.97      0.99      0.98       274\n",
      "entertainment       0.99      0.93      0.96       178\n",
      "       sports       0.98      0.96      0.97       137\n",
      "   technology       0.91      0.96      0.93       270\n",
      "\n",
      "     accuracy                           0.96      1104\n",
      "    macro avg       0.96      0.95      0.96      1104\n",
      " weighted avg       0.96      0.96      0.96      1104\n",
      "\n",
      "🏃 View run RandomForest at: http://localhost:5000/#/experiments/195901218684556543/runs/c0e80fde817e465c883ef6252ebf5083\n",
      "🧪 View experiment at: http://localhost:5000/#/experiments/195901218684556543\n"
     ]
    }
   ],
   "source": [
    "from sklearn.naive_bayes import MultinomialNB\n",
    "from sklearn.linear_model import LogisticRegression\n",
    "from sklearn.ensemble import RandomForestClassifier\n",
    "from sklearn.metrics import accuracy_score, classification_report\n",
    "import mlflow\n",
    "import mlflow.sklearn\n",
    "\n",
    "# Set up MLflow\n",
    "mlflow.set_tracking_uri(\"http://localhost:5000\")\n",
    "mlflow.set_experiment(\"News_Classification\")\n",
    "\n",
    "models = {\n",
    "    \"MultinomialNB\": MultinomialNB(),\n",
    "    \"LogisticRegression\": LogisticRegression(max_iter=1000),\n",
    "    \"RandomForest\": RandomForestClassifier(n_estimators=100, random_state=42)\n",
    "}\n",
    "\n",
    "for model_name, model in models.items():\n",
    "    with mlflow.start_run(run_name=model_name):\n",
    "        mlflow.sklearn.autolog()\n",
    "\n",
    "        model.fit(X_train, y_train)\n",
    "        y_pred = model.predict(X_val)\n",
    "\n",
    "        accuracy = accuracy_score(y_val, y_pred)\n",
    "        print(f\"\\n{model_name} Accuracy:\", accuracy)\n",
    "        print(classification_report(y_val, y_pred))\n",
    "\n",
    "        mlflow.log_metric(\"val_accuracy\", accuracy)\n"
   ]
  },
  {
   "cell_type": "code",
   "execution_count": 27,
   "id": "4088f301-3603-432c-9474-da8c9c5737fd",
   "metadata": {},
   "outputs": [
    {
     "data": {
      "text/plain": [
       "<sklearn.metrics._plot.confusion_matrix.ConfusionMatrixDisplay at 0x1f0c95abdf0>"
      ]
     },
     "execution_count": 27,
     "metadata": {},
     "output_type": "execute_result"
    }
   ],
   "source": [
    "from sklearn.metrics import confusion_matrix, ConfusionMatrixDisplay\n",
    "\n",
    "cm = confusion_matrix(y_val, y_pred)\n",
    "ConfusionMatrixDisplay(cm).plot()\n"
   ]
  },
  {
   "cell_type": "code",
   "execution_count": null,
   "id": "f2bc15b3-906e-41c7-be5b-07a0b2741362",
   "metadata": {},
   "outputs": [],
   "source": []
  }
 ],
 "metadata": {
  "kernelspec": {
   "display_name": "Python 3 (ipykernel)",
   "language": "python",
   "name": "python3"
  },
  "language_info": {
   "codemirror_mode": {
    "name": "ipython",
    "version": 3
   },
   "file_extension": ".py",
   "mimetype": "text/x-python",
   "name": "python",
   "nbconvert_exporter": "python",
   "pygments_lexer": "ipython3",
   "version": "3.10.16"
  }
 },
 "nbformat": 4,
 "nbformat_minor": 5
}
